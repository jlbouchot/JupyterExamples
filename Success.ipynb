{
 "cells": [
  {
   "cell_type": "code",
   "execution_count": 19,
   "metadata": {},
   "outputs": [],
   "source": [
    "from scipy.special import binom as binom_coef # usefull for evaluating the binomial coefficients\n",
    "import numpy as np"
   ]
  },
  {
   "cell_type": "code",
   "execution_count": 20,
   "metadata": {
    "collapsed": true
   },
   "outputs": [],
   "source": [
    "nb_questions = 100\n",
    "nb_for_success = 20\n",
    "nb_tests = 30\n",
    "investment = np.arange(50,86,5)# how much I am willing to learn for which risk"
   ]
  },
  {
   "cell_type": "code",
   "execution_count": 21,
   "metadata": {
    "collapsed": true
   },
   "outputs": [],
   "source": [
    "nb_success_sets = [np.sum([binom_coef(i, s)*binom_coef(nb_questions-i,nb_tests-s) for s in range(nb_for_success,nb_tests+1)]) for i in investment]\n",
    "nb_total_sets = binom_coef(nb_questions,nb_tests)"
   ]
  },
  {
   "cell_type": "code",
   "execution_count": 28,
   "metadata": {},
   "outputs": [
    {
     "name": "stdout",
     "output_type": "stream",
     "text": [
      "Investment of 50 yields a probability of success of 2%\n",
      "Investment of 55 yields a probability of success of 9%\n",
      "Investment of 60 yields a probability of success of 25%\n",
      "Investment of 65 yields a probability of success of 50%\n",
      "Investment of 70 yields a probability of success of 76%\n",
      "Investment of 75 yields a probability of success of 93%\n",
      "Investment of 80 yields a probability of success of 99%\n",
      "Investment of 85 yields a probability of success of 99%\n"
     ]
    }
   ],
   "source": [
    "print(\"\\n\".join(['Investment of ' + str(investment[i]) + ' yields a probability of success of ' + str(int(100*nb_success_sets[i] / nb_total_sets)) + '%' for i in range(0,len(investment))]))"
   ]
  }
 ],
 "metadata": {
  "kernelspec": {
   "display_name": "Python 3",
   "language": "python",
   "name": "python3"
  },
  "language_info": {
   "codemirror_mode": {
    "name": "ipython",
    "version": 3
   },
   "file_extension": ".py",
   "mimetype": "text/x-python",
   "name": "python",
   "nbconvert_exporter": "python",
   "pygments_lexer": "ipython3",
   "version": "3.6.3"
  }
 },
 "nbformat": 4,
 "nbformat_minor": 2
}
